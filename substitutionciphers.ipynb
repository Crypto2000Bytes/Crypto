{
  "nbformat": 4,
  "nbformat_minor": 0,
  "metadata": {
    "colab": {
      "name": "substitutionciphers.ipynb",
      "provenance": [],
      "authorship_tag": "ABX9TyN/iiCiM+JDlmi8zTS17gof",
      "include_colab_link": true
    },
    "kernelspec": {
      "name": "python3",
      "display_name": "Python 3"
    },
    "language_info": {
      "name": "python"
    }
  },
  "cells": [
    {
      "cell_type": "markdown",
      "metadata": {
        "id": "view-in-github",
        "colab_type": "text"
      },
      "source": [
        "<a href=\"https://colab.research.google.com/github/Crypto2000Bytes/Crypto/blob/main/substitutionciphers.ipynb\" target=\"_parent\"><img src=\"https://colab.research.google.com/assets/colab-badge.svg\" alt=\"Open In Colab\"/></a>"
      ]
    },
    {
      "cell_type": "markdown",
      "metadata": {
        "id": "3rjXdsF44mgu"
      },
      "source": [
        "Permutations of a list with 4 elements."
      ]
    },
    {
      "cell_type": "code",
      "metadata": {
        "colab": {
          "base_uri": "https://localhost:8080/"
        },
        "id": "JgE5c00z4dqd",
        "outputId": "9272ea51-c73e-4c69-e763-e8e50478693a"
      },
      "source": [
        "from itertools import permutations\n",
        "\n",
        "my_list = ['A','B','C','E']\n",
        "\n",
        "perm_list = permutations(my_list)\n",
        "\n",
        "for permutation in perm_list:\n",
        "  print(permutation)\n",
        "\n"
      ],
      "execution_count": null,
      "outputs": [
        {
          "output_type": "stream",
          "text": [
            "('A', 'B', 'C', 'E')\n",
            "('A', 'B', 'E', 'C')\n",
            "('A', 'C', 'B', 'E')\n",
            "('A', 'C', 'E', 'B')\n",
            "('A', 'E', 'B', 'C')\n",
            "('A', 'E', 'C', 'B')\n",
            "('B', 'A', 'C', 'E')\n",
            "('B', 'A', 'E', 'C')\n",
            "('B', 'C', 'A', 'E')\n",
            "('B', 'C', 'E', 'A')\n",
            "('B', 'E', 'A', 'C')\n",
            "('B', 'E', 'C', 'A')\n",
            "('C', 'A', 'B', 'E')\n",
            "('C', 'A', 'E', 'B')\n",
            "('C', 'B', 'A', 'E')\n",
            "('C', 'B', 'E', 'A')\n",
            "('C', 'E', 'A', 'B')\n",
            "('C', 'E', 'B', 'A')\n",
            "('E', 'A', 'B', 'C')\n",
            "('E', 'A', 'C', 'B')\n",
            "('E', 'B', 'A', 'C')\n",
            "('E', 'B', 'C', 'A')\n",
            "('E', 'C', 'A', 'B')\n",
            "('E', 'C', 'B', 'A')\n"
          ],
          "name": "stdout"
        }
      ]
    },
    {
      "cell_type": "markdown",
      "metadata": {
        "id": "EBQg6Pyg5iUD"
      },
      "source": [
        "Total permutations of a list with n number of elements."
      ]
    },
    {
      "cell_type": "code",
      "metadata": {
        "colab": {
          "base_uri": "https://localhost:8080/"
        },
        "id": "fKUgbRHv5tnX",
        "outputId": "3a81eb9f-711c-4ca7-8db2-136f4a0d91f8"
      },
      "source": [
        "from itertools import permutations\n",
        "\n",
        "my_list = ['A','B','C','E']\n",
        "\n",
        "perm_list = permutations(my_list)\n",
        "\n",
        "total_perm = 0\n",
        "for permutation in perm_list:\n",
        "  total_perm += 1\n",
        "\n",
        "print(len(my_list), total_perm)"
      ],
      "execution_count": null,
      "outputs": [
        {
          "output_type": "stream",
          "text": [
            "4 24\n"
          ],
          "name": "stdout"
        }
      ]
    },
    {
      "cell_type": "markdown",
      "metadata": {
        "id": "ITIFxhhO_PDS"
      },
      "source": [
        "Total permutations of a given number of elements in a list."
      ]
    },
    {
      "cell_type": "code",
      "metadata": {
        "colab": {
          "base_uri": "https://localhost:8080/"
        },
        "id": "cf5NJDDA6QlR",
        "outputId": "b7eb0559-affb-418b-8071-83931cfe5cd0"
      },
      "source": [
        "from itertools import permutations\n",
        "\n",
        "my_list = input(\"Give a list of n-elements separeted by space: \")\n",
        "input_list = my_list.split()\n",
        "print(\"input list is\", input_list)\n",
        "\n",
        "perm_list = permutations(input_list)\n",
        "\n",
        "element = 0\n",
        "total_perm = 0\n",
        "for elements in input_list:\n",
        "  element += 1\n",
        "  for permutation in perm_list:\n",
        "    total_perm += 1\n",
        "\n",
        "print(f'number of elements: {element}, total number of perutations: {total_perm}')"
      ],
      "execution_count": null,
      "outputs": [
        {
          "output_type": "stream",
          "text": [
            "Give a list of n-elements separeted by space: 1 2 3 \n",
            "input list is ['1', '2', '3']\n",
            "number of elements: 3, total number of perutations: 6\n"
          ],
          "name": "stdout"
        }
      ]
    },
    {
      "cell_type": "markdown",
      "metadata": {
        "id": "Dw1XtuzeKPEJ"
      },
      "source": [
        "Time to calculate a given faculty"
      ]
    },
    {
      "cell_type": "code",
      "metadata": {
        "colab": {
          "base_uri": "https://localhost:8080/"
        },
        "id": "BsYLos8nEXUb",
        "outputId": "7505d7a4-4586-4f0b-dd0d-0b4cf0987aa6"
      },
      "source": [
        "import cProfile\n",
        "\n",
        "\n",
        "\n",
        "def faculty(n):\n",
        "  if n <= 1:\n",
        "    return n\n",
        "  else:\n",
        "    return faculty(n-1)*n\n",
        "\n",
        "def cnt(n):\n",
        "  cnt = 0\n",
        "  for i in range(n):\n",
        "    cnt += 1\n",
        "  return cnt\n",
        "\n",
        "n = int(input(\"Please give a number n to calcute the faculty of n: \"))\n",
        "print(faculty(n))\n",
        "print(cnt(faculty(n)))\n",
        "cProfile.run(\"cnt(faculty(n))\")\n"
      ],
      "execution_count": 45,
      "outputs": [
        {
          "output_type": "stream",
          "text": [
            "Please give a number n to calcute the faculty of n: 10\n",
            "3628800\n",
            "3628800\n",
            "         14 function calls (5 primitive calls) in 0.255 seconds\n",
            "\n",
            "   Ordered by: standard name\n",
            "\n",
            "   ncalls  tottime  percall  cumtime  percall filename:lineno(function)\n",
            "        1    0.255    0.255    0.255    0.255 <ipython-input-45-d5fced06b7b2>:11(cnt)\n",
            "     10/1    0.000    0.000    0.000    0.000 <ipython-input-45-d5fced06b7b2>:5(faculty)\n",
            "        1    0.000    0.000    0.255    0.255 <string>:1(<module>)\n",
            "        1    0.000    0.000    0.255    0.255 {built-in method builtins.exec}\n",
            "        1    0.000    0.000    0.000    0.000 {method 'disable' of '_lsprof.Profiler' objects}\n",
            "\n",
            "\n"
          ],
          "name": "stdout"
        }
      ]
    }
  ]
}