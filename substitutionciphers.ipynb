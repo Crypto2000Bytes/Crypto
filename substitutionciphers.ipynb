{
  "nbformat": 4,
  "nbformat_minor": 0,
  "metadata": {
    "colab": {
      "name": "substitutionciphers.ipynb",
      "provenance": [],
      "authorship_tag": "ABX9TyMsWt1zyin395ujKYQqmxSC",
      "include_colab_link": true
    },
    "kernelspec": {
      "name": "python3",
      "display_name": "Python 3"
    },
    "language_info": {
      "name": "python"
    }
  },
  "cells": [
    {
      "cell_type": "markdown",
      "metadata": {
        "id": "view-in-github",
        "colab_type": "text"
      },
      "source": [
        "<a href=\"https://colab.research.google.com/github/Crypto2000Bytes/Crypto/blob/main/substitutionciphers.ipynb\" target=\"_parent\"><img src=\"https://colab.research.google.com/assets/colab-badge.svg\" alt=\"Open In Colab\"/></a>"
      ]
    },
    {
      "cell_type": "markdown",
      "metadata": {
        "id": "3rjXdsF44mgu"
      },
      "source": [
        "Permutations of a list with 4 elements."
      ]
    },
    {
      "cell_type": "code",
      "metadata": {
        "colab": {
          "base_uri": "https://localhost:8080/"
        },
        "id": "JgE5c00z4dqd",
        "outputId": "9272ea51-c73e-4c69-e763-e8e50478693a"
      },
      "source": [
        "from itertools import permutations\n",
        "\n",
        "my_list = ['A','B','C','E']\n",
        "\n",
        "perm_list = permutations(my_list)\n",
        "\n",
        "for permutation in perm_list:\n",
        "  print(permutation)\n",
        "\n"
      ],
      "execution_count": 4,
      "outputs": [
        {
          "output_type": "stream",
          "text": [
            "('A', 'B', 'C', 'E')\n",
            "('A', 'B', 'E', 'C')\n",
            "('A', 'C', 'B', 'E')\n",
            "('A', 'C', 'E', 'B')\n",
            "('A', 'E', 'B', 'C')\n",
            "('A', 'E', 'C', 'B')\n",
            "('B', 'A', 'C', 'E')\n",
            "('B', 'A', 'E', 'C')\n",
            "('B', 'C', 'A', 'E')\n",
            "('B', 'C', 'E', 'A')\n",
            "('B', 'E', 'A', 'C')\n",
            "('B', 'E', 'C', 'A')\n",
            "('C', 'A', 'B', 'E')\n",
            "('C', 'A', 'E', 'B')\n",
            "('C', 'B', 'A', 'E')\n",
            "('C', 'B', 'E', 'A')\n",
            "('C', 'E', 'A', 'B')\n",
            "('C', 'E', 'B', 'A')\n",
            "('E', 'A', 'B', 'C')\n",
            "('E', 'A', 'C', 'B')\n",
            "('E', 'B', 'A', 'C')\n",
            "('E', 'B', 'C', 'A')\n",
            "('E', 'C', 'A', 'B')\n",
            "('E', 'C', 'B', 'A')\n"
          ],
          "name": "stdout"
        }
      ]
    },
    {
      "cell_type": "markdown",
      "metadata": {
        "id": "EBQg6Pyg5iUD"
      },
      "source": [
        "Total permutations of a list with n number of elements."
      ]
    },
    {
      "cell_type": "code",
      "metadata": {
        "colab": {
          "base_uri": "https://localhost:8080/"
        },
        "id": "fKUgbRHv5tnX",
        "outputId": "3a81eb9f-711c-4ca7-8db2-136f4a0d91f8"
      },
      "source": [
        "from itertools import permutations\n",
        "\n",
        "my_list = ['A','B','C','E']\n",
        "\n",
        "perm_list = permutations(my_list)\n",
        "\n",
        "total_perm = 0\n",
        "for permutation in perm_list:\n",
        "  total_perm += 1\n",
        "\n",
        "print(len(my_list), total_perm)"
      ],
      "execution_count": 5,
      "outputs": [
        {
          "output_type": "stream",
          "text": [
            "4 24\n"
          ],
          "name": "stdout"
        }
      ]
    },
    {
      "cell_type": "markdown",
      "metadata": {
        "id": "ITIFxhhO_PDS"
      },
      "source": [
        "Total permutations of a given number of elements in a list."
      ]
    },
    {
      "cell_type": "code",
      "metadata": {
        "colab": {
          "base_uri": "https://localhost:8080/"
        },
        "id": "cf5NJDDA6QlR",
        "outputId": "b7eb0559-affb-418b-8071-83931cfe5cd0"
      },
      "source": [
        "from itertools import permutations\n",
        "\n",
        "my_list = input(\"Give a list of n-elements separeted by space: \")\n",
        "input_list = my_list.split()\n",
        "print(\"input list is\", input_list)\n",
        "\n",
        "perm_list = permutations(input_list)\n",
        "\n",
        "element = 0\n",
        "total_perm = 0\n",
        "for elements in input_list:\n",
        "  element += 1\n",
        "  for permutation in perm_list:\n",
        "    total_perm += 1\n",
        "\n",
        "print(f'number of elements: {element}, total number of perutations: {total_perm}')"
      ],
      "execution_count": 28,
      "outputs": [
        {
          "output_type": "stream",
          "text": [
            "Give a list of n-elements separeted by space: 1 2 3 \n",
            "input list is ['1', '2', '3']\n",
            "number of elements: 3, total number of perutations: 6\n"
          ],
          "name": "stdout"
        }
      ]
    }
  ]
}