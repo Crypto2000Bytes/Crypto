{
  "nbformat": 4,
  "nbformat_minor": 0,
  "metadata": {
    "colab": {
      "name": "CAESAR.ipynb",
      "provenance": [],
      "authorship_tag": "ABX9TyPwhEmGo4NJPCNjgGkpgXCe",
      "include_colab_link": true
    },
    "kernelspec": {
      "name": "python3",
      "display_name": "Python 3"
    },
    "language_info": {
      "name": "python"
    }
  },
  "cells": [
    {
      "cell_type": "markdown",
      "metadata": {
        "id": "view-in-github",
        "colab_type": "text"
      },
      "source": [
        "<a href=\"https://colab.research.google.com/github/Crypto2000Bytes/Crypto/blob/main/CAESAR.ipynb\" target=\"_parent\"><img src=\"https://colab.research.google.com/assets/colab-badge.svg\" alt=\"Open In Colab\"/></a>"
      ]
    },
    {
      "cell_type": "code",
      "execution_count": 8,
      "metadata": {
        "id": "VCFksMhBvMPT"
      },
      "outputs": [],
      "source": [
        "def kgen(n):\n",
        "  M = \"abcdefghijklmnopqrstuvwxyzABCDEFGHIJKLMNOPQRSTUVWXYZ0123456789!@#$%^&*()? \"\n",
        "  key = {}\n",
        "  cnt = 0\n",
        "  for i in M:\n",
        "    key[i] = M[(cnt + n)%len(M)]\n",
        "    cnt += 1\n",
        "  return key"
      ]
    },
    {
      "cell_type": "code",
      "source": [
        "def enc(m, k):\n",
        "  c = \"\"\n",
        "  for i in m:\n",
        "    if i in k:\n",
        "      c += k[i]\n",
        "    else:\n",
        "      c += i\n",
        "  return c"
      ],
      "metadata": {
        "id": "atXeV9DEvlKR"
      },
      "execution_count": 9,
      "outputs": []
    },
    {
      "cell_type": "code",
      "source": [
        "def dkey(n):\n",
        "  M = \"abcdefghijklmnopqrstuvwxyzABCDEFGHIJKLMNOPQRSTUVWXYZ0123456789!@#$%^&*()? \"\n",
        "  dkey = {}\n",
        "  cnt = 0\n",
        "  for i in M:\n",
        "    dkey[i] = M[(cnt - n)%len(M)]\n",
        "    cnt += 1\n",
        "  return dkey\n",
        "\n",
        "\n"
      ],
      "metadata": {
        "id": "mPO7XtG8v0mb"
      },
      "execution_count": 11,
      "outputs": []
    },
    {
      "cell_type": "code",
      "source": [
        "def dec(c, dk):\n",
        "  m = \"\"\n",
        "  for i in c:\n",
        "    if i in dk:\n",
        "      m += dk[i]\n",
        "    else:\n",
        "      m += i\n",
        "  return m"
      ],
      "metadata": {
        "id": "g6djY3T0woaj"
      },
      "execution_count": 12,
      "outputs": []
    },
    {
      "cell_type": "code",
      "source": [
        "k = kgen(3)\n",
        "m = \"Winston is SuperGoed!\"\n",
        "encryptie = enc(m,k)\n",
        "print(encryptie)\n",
        "dk = dkey(3)\n",
        "decryptie = dec(encryptie, dk)\n",
        "print(decryptie)\n"
      ],
      "metadata": {
        "colab": {
          "base_uri": "https://localhost:8080/"
        },
        "id": "50P78bqjxH2O",
        "outputId": "9fac79ed-c651-4eaa-f7de-d0aad8f2bbe9"
      },
      "execution_count": 13,
      "outputs": [
        {
          "output_type": "stream",
          "name": "stdout",
          "text": [
            "ZlqvwrqclvcVxshuJrhg$\n",
            "Winston is SuperGoed!\n"
          ]
        }
      ]
    }
  ]
}