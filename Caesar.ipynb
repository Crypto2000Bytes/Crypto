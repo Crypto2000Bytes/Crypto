{
  "nbformat": 4,
  "nbformat_minor": 0,
  "metadata": {
    "colab": {
      "name": "Caesar.ipynb",
      "provenance": [],
      "collapsed_sections": [],
      "authorship_tag": "ABX9TyP8Gc2QBsCjspJJlarimQoj",
      "include_colab_link": true
    },
    "kernelspec": {
      "name": "python3",
      "display_name": "Python 3"
    },
    "language_info": {
      "name": "python"
    }
  },
  "cells": [
    {
      "cell_type": "markdown",
      "metadata": {
        "id": "view-in-github",
        "colab_type": "text"
      },
      "source": [
        "<a href=\"https://colab.research.google.com/github/Crypto2000Bytes/Crypto/blob/main/Caesar.ipynb\" target=\"_parent\"><img src=\"https://colab.research.google.com/assets/colab-badge.svg\" alt=\"Open In Colab\"/></a>"
      ]
    },
    {
      "cell_type": "code",
      "metadata": {
        "colab": {
          "base_uri": "https://localhost:8080/"
        },
        "id": "SGLh8feNUPHo",
        "outputId": "af94b170-d427-4e70-b94e-675cb2d58e5c"
      },
      "source": [
        "# Generate key\n",
        "\n",
        "def gen_key(shift):\n",
        "  letters = \"abcdefrghijklmnopqrstuvwxyzABCDEFGHIJKLMNOPQRSTUVWXYZ0123456789\"\n",
        "  key = {}\n",
        "  counter = 0\n",
        "  for letter in letters:\n",
        "    key[letter] = letters[(counter + shift) % len(letters)]\n",
        "    counter += 1\n",
        "  return key\n",
        "\n",
        "# encrypt message\n",
        "\n",
        "def encrypt(key, msg):\n",
        "  cipher = ' '\n",
        "  for character in msg:\n",
        "    if character in key:\n",
        "      cipher += key[character]\n",
        "    else:\n",
        "      cipher += character\n",
        "  return cipher\n",
        "\n",
        "# decryption key\n",
        "\n",
        "def get_decrypt(key):\n",
        "  decrypt_key = {}\n",
        "  for c in key:\n",
        "    decrypt_key[key[c]]= c\n",
        "  return decrypt_key\n",
        "\n",
        "# decryption cipher\n",
        "\n",
        "def decrypt(decrypt_key, cipher):\n",
        "  msg = ' '\n",
        "  for character in cipher:\n",
        "    if character in decrypt_key:\n",
        "      msg += decrypt_key[character]\n",
        "    else:\n",
        "      msg += character\n",
        "  return msg\n",
        "\n",
        "\n",
        "\n",
        "\n",
        "\n",
        "key_gen = gen_key(8)\n",
        "print(key_gen)\n",
        "message = \" Winston is an cyberoutlier\"\n",
        "e = encrypt(key_gen, message)\n",
        "print(e)\n",
        "decrypty = get_decrypt(key_gen)\n",
        "print(decrypty)\n",
        "message_decrypted = decrypt(decrypty, e)\n",
        "print(message_decrypted)"
      ],
      "execution_count": 9,
      "outputs": [
        {
          "output_type": "stream",
          "text": [
            "{'a': 'h', 'b': 'i', 'c': 'j', 'd': 'k', 'e': 'l', 'f': 'm', 'r': 'z', 'g': 'o', 'h': 'p', 'i': 'q', 'j': 'r', 'k': 's', 'l': 't', 'm': 'u', 'n': 'v', 'o': 'w', 'p': 'x', 'q': 'y', 's': 'A', 't': 'B', 'u': 'C', 'v': 'D', 'w': 'E', 'x': 'F', 'y': 'G', 'z': 'H', 'A': 'I', 'B': 'J', 'C': 'K', 'D': 'L', 'E': 'M', 'F': 'N', 'G': 'O', 'H': 'P', 'I': 'Q', 'J': 'R', 'K': 'S', 'L': 'T', 'M': 'U', 'N': 'V', 'O': 'W', 'P': 'X', 'Q': 'Y', 'R': 'Z', 'S': '0', 'T': '1', 'U': '2', 'V': '3', 'W': '4', 'X': '5', 'Y': '6', 'Z': '7', '0': '8', '1': '9', '2': 'a', '3': 'b', '4': 'c', '5': 'd', '6': 'e', '7': 'f', '8': 'r', '9': 'g'}\n",
            "  4qvABwv qA hv jGilzwCBtqlz\n",
            "{'h': 'a', 'i': 'b', 'j': 'c', 'k': 'd', 'l': 'e', 'm': 'f', 'z': 'r', 'o': 'g', 'p': 'h', 'q': 'i', 'r': '8', 's': 'k', 't': 'l', 'u': 'm', 'v': 'n', 'w': 'o', 'x': 'p', 'y': 'q', 'A': 's', 'B': 't', 'C': 'u', 'D': 'v', 'E': 'w', 'F': 'x', 'G': 'y', 'H': 'z', 'I': 'A', 'J': 'B', 'K': 'C', 'L': 'D', 'M': 'E', 'N': 'F', 'O': 'G', 'P': 'H', 'Q': 'I', 'R': 'J', 'S': 'K', 'T': 'L', 'U': 'M', 'V': 'N', 'W': 'O', 'X': 'P', 'Y': 'Q', 'Z': 'R', '0': 'S', '1': 'T', '2': 'U', '3': 'V', '4': 'W', '5': 'X', '6': 'Y', '7': 'Z', '8': '0', '9': '1', 'a': '2', 'b': '3', 'c': '4', 'd': '5', 'e': '6', 'f': '7', 'g': '9'}\n",
            "   Winston is an cyberoutlier\n"
          ],
          "name": "stdout"
        }
      ]
    }
  ]
}