{
  "nbformat": 4,
  "nbformat_minor": 0,
  "metadata": {
    "colab": {
      "name": "substitutie versleuteling.ipynb",
      "provenance": [],
      "collapsed_sections": [],
      "authorship_tag": "ABX9TyOgoxCZ4Dp3dCRnTa0e0/Cq",
      "include_colab_link": true
    },
    "kernelspec": {
      "name": "python3",
      "display_name": "Python 3"
    },
    "language_info": {
      "name": "python"
    }
  },
  "cells": [
    {
      "cell_type": "markdown",
      "metadata": {
        "id": "view-in-github",
        "colab_type": "text"
      },
      "source": [
        "<a href=\"https://colab.research.google.com/github/Crypto2000Bytes/Crypto/blob/main/substitutie_versleuteling.ipynb\" target=\"_parent\"><img src=\"https://colab.research.google.com/assets/colab-badge.svg\" alt=\"Open In Colab\"/></a>"
      ]
    },
    {
      "cell_type": "code",
      "execution_count": 11,
      "metadata": {
        "colab": {
          "base_uri": "https://localhost:8080/"
        },
        "id": "94HPanj6Bed_",
        "outputId": "80f4a8ec-1311-4ed4-ae0e-8b3160affa1b"
      },
      "outputs": [
        {
          "output_type": "stream",
          "name": "stdout",
          "text": [
            "{'a': 'p', 'b': 'M', 'c': 'K', 'd': 'k', 'e': '?', 'f': 'z', 'g': 'S', 'h': 'n', 'i': '0', 'j': 'G', 'k': 'D', 'l': '#', 'm': '7', 'n': 'g', 'o': '^', 'p': 'l', 'q': 'x', 'r': '8', 's': 'T', 't': 'f', 'u': 'P', 'v': 'd', 'w': '&', 'x': 'a', 'y': 'I', 'z': '2', 'A': '*', 'B': 'L', 'C': 'H', 'D': 'U', 'E': ')', 'F': '$', 'G': 'Q', 'H': 'c', 'I': 'B', 'J': '1', 'K': 'O', 'L': 'N', 'M': 'Z', 'N': 'E', 'O': 'F', 'P': ' ', 'Q': 'q', 'R': 'C', 'S': 'R', 'T': '@', 'U': 'y', 'V': 'r', 'W': 'A', 'X': '3', 'Y': 'W', 'Z': 'V', '0': 's', '1': 'o', '2': '(', '3': 'X', '4': 't', '5': '%', '6': 'J', '7': 'h', '8': 'u', '9': 'v', ' ': 'e', '!': '9', '@': '5', '#': 'j', '$': 'Y', '%': '6', '^': 'b', '&': 'm', '*': '!', '(': '4', ')': 'i', '?': 'w'}\n"
          ]
        }
      ],
      "source": [
        "import random\n",
        "\n",
        "def kgen():\n",
        "  M_space = \"abcdefghijklmnopqrstuvwxyzABCDEFGHIJKLMNOPQRSTUVWXYZ0123456789 !@#$%^&*()?\"\n",
        "  key = {}\n",
        "  N = list(M_space)\n",
        "  for symbool in M_space:\n",
        "    key[symbool] = N.pop(random.randint(0, len(N)-1))\n",
        "  return key\n",
        "\n",
        "key = kgen()\n",
        "print(key)"
      ]
    }
  ]
}