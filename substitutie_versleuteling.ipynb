{
  "nbformat": 4,
  "nbformat_minor": 0,
  "metadata": {
    "colab": {
      "name": "substitutie versleuteling.ipynb",
      "provenance": [],
      "collapsed_sections": [],
      "authorship_tag": "ABX9TyOR8yTjU29wVxHP6GmusdT5",
      "include_colab_link": true
    },
    "kernelspec": {
      "name": "python3",
      "display_name": "Python 3"
    },
    "language_info": {
      "name": "python"
    }
  },
  "cells": [
    {
      "cell_type": "markdown",
      "metadata": {
        "id": "view-in-github",
        "colab_type": "text"
      },
      "source": [
        "<a href=\"https://colab.research.google.com/github/Crypto2000Bytes/Crypto/blob/main/substitutie_versleuteling.ipynb\" target=\"_parent\"><img src=\"https://colab.research.google.com/assets/colab-badge.svg\" alt=\"Open In Colab\"/></a>"
      ]
    },
    {
      "cell_type": "code",
      "execution_count": 14,
      "metadata": {
        "colab": {
          "base_uri": "https://localhost:8080/"
        },
        "id": "94HPanj6Bed_",
        "outputId": "fc1cdb90-6253-44d6-94a2-a9f925e5e219"
      },
      "outputs": [
        {
          "output_type": "stream",
          "name": "stdout",
          "text": [
            "{'a': 'e', 'b': '4', 'c': '^', 'd': 'o', 'e': 'k', 'f': 'z', 'g': 'B', 'h': 'D', 'i': 'V', 'j': '8', 'k': 'v', 'l': 'S', 'm': ')', 'n': '6', 'o': '0', 'p': '3', 'q': 'p', 'r': '$', 's': '?', 't': '@', 'u': '2', 'v': 'Z', 'w': 'Q', 'x': '7', 'y': 'W', 'z': 'g', 'A': 'O', 'B': 'C', 'C': '*', 'D': 'K', 'E': 'j', 'F': 'U', 'G': 'm', 'H': 'w', 'I': 'J', 'J': 'f', 'K': 'c', 'L': 's', 'M': '9', 'N': 'y', 'O': 'b', 'P': '(', 'Q': 'F', 'R': 'A', 'S': '5', 'T': 't', 'U': 'R', 'V': 'H', 'W': 'T', 'X': '&', 'Y': 'N', 'Z': ' ', '0': '1', '1': 'Y', '2': 'I', '3': '#', '4': 'P', '5': 'X', '6': '!', '7': 'l', '8': 'h', '9': 'r', ' ': 'x', '!': 'n', '@': 'M', '#': 'q', '$': 'u', '%': 'L', '^': 'i', '&': 'd', '*': '%', '(': 'a', ')': 'E', '?': 'G'}\n"
          ]
        }
      ],
      "source": [
        "import random\n",
        "\n",
        "def kgen():\n",
        "  M_space = \"abcdefghijklmnopqrstuvwxyzABCDEFGHIJKLMNOPQRSTUVWXYZ0123456789 !@#$%^&*()?\"\n",
        "  key = {}\n",
        "  N = list(M_space)\n",
        "  for symbool in M_space:\n",
        "    key[symbool] = N.pop(random.randint(0, len(N)-1))\n",
        "  return key\n",
        "\n",
        "key = kgen()\n",
        "print(key)"
      ]
    },
    {
      "cell_type": "code",
      "source": [
        "import random\n",
        "\n",
        "def kgen():\n",
        "  M = \"abcdefghijklmnopqrstuvwxyz\"\n",
        "  key= {}\n",
        "  N = list(M)\n",
        "  for s in M:\n",
        "    key[s] = N.pop(random.randrange(0,len(N)))\n",
        "  return key\n",
        "\n",
        "key = kgen()\n",
        "print(key)"
      ],
      "metadata": {
        "colab": {
          "base_uri": "https://localhost:8080/"
        },
        "id": "euwEh6awJSat",
        "outputId": "c9486459-ad8b-49e4-cbb8-5df8e942fb8e"
      },
      "execution_count": 15,
      "outputs": [
        {
          "output_type": "stream",
          "name": "stdout",
          "text": [
            "{'a': 'g', 'b': 'o', 'c': 'q', 'd': 'b', 'e': 't', 'f': 'v', 'g': 'j', 'h': 'p', 'i': 'h', 'j': 'y', 'k': 'x', 'l': 'z', 'm': 'm', 'n': 'a', 'o': 'n', 'p': 'e', 'q': 'k', 'r': 's', 's': 'r', 't': 'l', 'u': 'i', 'v': 'd', 'w': 'c', 'x': 'f', 'y': 'w', 'z': 'u'}\n"
          ]
        }
      ]
    },
    {
      "cell_type": "code",
      "source": [
        ""
      ],
      "metadata": {
        "id": "Z82p8efdJ0Ra"
      },
      "execution_count": null,
      "outputs": []
    }
  ]
}