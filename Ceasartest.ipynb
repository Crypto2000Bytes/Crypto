{
  "nbformat": 4,
  "nbformat_minor": 0,
  "metadata": {
    "colab": {
      "name": "Ceasartest.ipynb",
      "provenance": [],
      "collapsed_sections": [],
      "authorship_tag": "ABX9TyNJZzWDg0rh6vPIPlVojTMH",
      "include_colab_link": true
    },
    "kernelspec": {
      "name": "python3",
      "display_name": "Python 3"
    },
    "language_info": {
      "name": "python"
    }
  },
  "cells": [
    {
      "cell_type": "markdown",
      "metadata": {
        "id": "view-in-github",
        "colab_type": "text"
      },
      "source": [
        "<a href=\"https://colab.research.google.com/github/Crypto2000Bytes/Crypto/blob/main/Ceasartest.ipynb\" target=\"_parent\"><img src=\"https://colab.research.google.com/assets/colab-badge.svg\" alt=\"Open In Colab\"/></a>"
      ]
    },
    {
      "cell_type": "code",
      "execution_count": 45,
      "metadata": {
        "id": "tBAWVX3yCe7D"
      },
      "outputs": [],
      "source": [
        "def keygen(n):\n",
        "  message_space = \"abcdef\"\n",
        "  key = {}\n",
        "  counter = 0\n",
        "  for letter in message_space:\n",
        "    key[letter] = message_space[(counter + n)%len(message_space)]\n",
        "    counter += 1\n",
        "  return key"
      ]
    },
    {
      "cell_type": "code",
      "source": [
        "def enc(key, message):\n",
        "  cipher = \"\"\n",
        "  for letter in message:\n",
        "    if letter in key:\n",
        "      cipher += key[letter]\n",
        "    else:\n",
        "      cipher += letter\n",
        "  return cipher"
      ],
      "metadata": {
        "id": "HDpiF22BDOJX"
      },
      "execution_count": 55,
      "outputs": []
    },
    {
      "cell_type": "code",
      "source": [
        "key = keygen(2)\n",
        "print(key)\n",
        "message = \"cab\"\n",
        "encryption = enc(key, message)\n",
        "print(encryption)"
      ],
      "metadata": {
        "colab": {
          "base_uri": "https://localhost:8080/"
        },
        "id": "D6vsH2iQERGW",
        "outputId": "f4f47c33-63ae-4cb9-c13a-fce3e52ac78f"
      },
      "execution_count": 59,
      "outputs": [
        {
          "output_type": "stream",
          "name": "stdout",
          "text": [
            "{'a': 'c', 'b': 'd', 'c': 'e', 'd': 'f', 'e': 'a', 'f': 'b'}\n",
            "ecd\n"
          ]
        }
      ]
    },
    {
      "cell_type": "markdown",
      "source": [
        "# Nieuwe sectie"
      ],
      "metadata": {
        "id": "hXPO46TgYmeF"
      }
    },
    {
      "cell_type": "code",
      "source": [
        "for i in range(6):\n",
        "  print(i)\n",
        "  dkey = keygen(i)\n",
        "  message = enc(dkey, encryption)\n",
        "  print(message)"
      ],
      "metadata": {
        "colab": {
          "base_uri": "https://localhost:8080/"
        },
        "id": "dI6F8WqdEwkZ",
        "outputId": "7b377f36-2596-4c23-e103-fe04f1843e22"
      },
      "execution_count": 50,
      "outputs": [
        {
          "output_type": "stream",
          "name": "stdout",
          "text": [
            "0\n",
            "ecd\n",
            "1\n",
            "fde\n",
            "2\n",
            "aef\n",
            "3\n",
            "bfa\n",
            "4\n",
            "cab\n",
            "5\n",
            "dbc\n"
          ]
        }
      ]
    }
  ]
}