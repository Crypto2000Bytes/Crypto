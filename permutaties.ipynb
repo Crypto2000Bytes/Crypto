{
  "nbformat": 4,
  "nbformat_minor": 0,
  "metadata": {
    "colab": {
      "name": "permutaties.ipynb",
      "provenance": [],
      "collapsed_sections": [],
      "authorship_tag": "ABX9TyPm4/A1ObZIJlnojRd07xNe",
      "include_colab_link": true
    },
    "kernelspec": {
      "name": "python3",
      "display_name": "Python 3"
    },
    "language_info": {
      "name": "python"
    }
  },
  "cells": [
    {
      "cell_type": "markdown",
      "metadata": {
        "id": "view-in-github",
        "colab_type": "text"
      },
      "source": [
        "<a href=\"https://colab.research.google.com/github/Crypto2000Bytes/Crypto/blob/main/permutaties.ipynb\" target=\"_parent\"><img src=\"https://colab.research.google.com/assets/colab-badge.svg\" alt=\"Open In Colab\"/></a>"
      ]
    },
    {
      "cell_type": "markdown",
      "source": [
        "# Permutaties\n",
        "\n",
        "Bij elke ontwikkeling in een bepaald gebied van de Cryptografie ontkom je er niet aan. Waaraan? Aan die ellendige wiskunde met al zijn bewerkingen. Zo ook niet aan de permutaties, die een belangrijke rol spelen in de Cryptografie. Een ding is dan al een reuze meevaller! Permutaties zijn niet onnodig ingewikkeld of moeilijk te begrijpen. Als je N! = N * (N-1) * (N-2) * ... * 3 * 2 * 1 kent, dan volgt al snel de rest. \n",
        "\n",
        "\n",
        "Bijvoorbeeld:\n",
        "\n",
        "1.   4! = 4 * 3 * 2 * 1 = 24\n",
        "2.   3! = 3 * 2 * 1 = 6\n",
        "\n",
        "\n",
        "We kunnen de permutaties implementeren door middel van Python. Dit gaat als volgt:\n",
        "- Je importeert eerst de module 'Itertools'. Dit is een module met een groot aantal functies die herhalingen creeeren voor het maken van efficiente lussen oftewel 'looping';\n",
        "- Uit 'Itertools' kies je de functie 'permutations' voor het maken van de permutaties van bijvoorbeeld een lijst met elemente;\n",
        "- Daarna creeer je een lijst met een aantal elementen;\n",
        "- Daarna declareer je een variabele met en naam, in dit geval aantal_perm. De waarde die hieraan wordt toegekent volgt uit de functie 'permutations' met als argument je lijst met elementen.\n",
        "- Je declareert een teller voor het aantal permutaties in totaal;\n",
        "- Nu voor de lus of 'loop': Voor elke permutatie (perm) in aantal_perm gaat de teller met 1 omhoog, waardoor je het totaal aantal permutaties krijgt uit de lus. Dit wordt zichtbaar wanneer je de lengte van je lijst uitprint met de teller.\n"
      ],
      "metadata": {
        "id": "kyXV3KKKWqoC"
      }
    },
    {
      "cell_type": "code",
      "source": [
        "from itertools import permutations\n",
        "import cProfile\n",
        "\n",
        "mijn_lijst = [1,2,3,4,5,6,7]\n",
        "aantal_perm = permutations(mijn_lijst)\n",
        "teller = 0\n",
        "\n",
        "for perm in aantal_perm:\n",
        "  teller += 1\n",
        "print(len(mijn_lijst), teller)\n",
        "\n"
      ],
      "metadata": {
        "colab": {
          "base_uri": "https://localhost:8080/"
        },
        "id": "CVQh_gQKhhYC",
        "outputId": "82146be0-23aa-4370-e4b4-d16b7f9d0a61"
      },
      "execution_count": null,
      "outputs": [
        {
          "output_type": "stream",
          "name": "stdout",
          "text": [
            "7 5040\n"
          ]
        }
      ]
    },
    {
      "cell_type": "code",
      "source": [
        "from itertools import permutations\n",
        "\n",
        "mijn_lijst = range(3)\n",
        "mijn_perm = permutations(mijn_lijst)\n",
        "teller = 0\n",
        "\n",
        "for perm in mijn_perm:\n",
        "  teller += 1\n",
        "print(len(mijn_lijst), teller)\n"
      ],
      "metadata": {
        "colab": {
          "base_uri": "https://localhost:8080/"
        },
        "id": "pU6eqZqkcmXD",
        "outputId": "97c089e4-f015-4d1e-f9a6-adc8e49b11ba"
      },
      "execution_count": null,
      "outputs": [
        {
          "output_type": "stream",
          "name": "stdout",
          "text": [
            "3 6\n"
          ]
        }
      ]
    },
    {
      "cell_type": "markdown",
      "source": [
        "# Faculteiten\n",
        "\n",
        "Hieronder gaan we de faculteiten berekenen door middel van recursie. 'What the hell' is recursie denk je nu misschien? Maar recursie is niets anders dan een functie gebruiken in diezelfde functie om tot een resultaat te komen. Je kunt het visualiseren door middel van een spiraal die steeds kleiner wordt als je het in een lus plaatst of een trap waarbij je steeds een trede oplaag gaat. Ik gooi er wel een afbeelding bij, dan is het makkelijker te bgrijpen. Misschien als je de code in python ziet, dan begrijp je het misschien al een stuk beter. "
      ],
      "metadata": {
        "id": "DVJfi-AbMQLd"
      }
    },
    {
      "cell_type": "code",
      "source": [
        "def faculteiten(n):\n",
        "    if n <= 1:\n",
        "      return 1\n",
        "    else:\n",
        "      return faculteiten(n-1)*n\n",
        "      "
      ],
      "metadata": {
        "id": "fzBvxBMNG74g"
      },
      "execution_count": null,
      "outputs": []
    },
    {
      "cell_type": "code",
      "source": [
        "for i in range(10):\n",
        "  print(faculteiten(i + 1))\n"
      ],
      "metadata": {
        "colab": {
          "base_uri": "https://localhost:8080/"
        },
        "id": "q1Q4UnzGI_6K",
        "outputId": "5429878d-4729-4b76-ddb2-cab9d273e05c"
      },
      "execution_count": null,
      "outputs": [
        {
          "output_type": "stream",
          "name": "stdout",
          "text": [
            "1\n",
            "2\n",
            "6\n",
            "24\n",
            "120\n",
            "720\n",
            "5040\n",
            "40320\n",
            "362880\n",
            "3628800\n"
          ]
        }
      ]
    },
    {
      "cell_type": "markdown",
      "source": [
        "# Teller"
      ],
      "metadata": {
        "id": "Yjy0T6L6mGID"
      }
    },
    {
      "cell_type": "code",
      "source": [
        "def teller(n):\n",
        "  counter = 0\n",
        "  for i in range(n):\n",
        "    counter += 1\n",
        "  return counter"
      ],
      "metadata": {
        "id": "1-GO96Kme5MH"
      },
      "execution_count": null,
      "outputs": []
    },
    {
      "cell_type": "markdown",
      "source": [
        "# De cProfile functie"
      ],
      "metadata": {
        "id": "WIlve1MGmJZ8"
      }
    },
    {
      "cell_type": "code",
      "source": [
        "cProfile.run(\"teller(faculteiten(11))\")\n",
        "\n",
        "cProfile.run(\"teller(faculteiten(11))\", \"output.dat\")\n",
        "\n",
        "\n",
        "  \n",
        "\n"
      ],
      "metadata": {
        "id": "Ba-8BwRlfOCV",
        "colab": {
          "base_uri": "https://localhost:8080/"
        },
        "outputId": "3092c2bd-cea1-48c9-c2d0-52897ceffd52"
      },
      "execution_count": 10,
      "outputs": [
        {
          "output_type": "stream",
          "name": "stdout",
          "text": [
            "         15 function calls (5 primitive calls) in 2.976 seconds\n",
            "\n",
            "   Ordered by: standard name\n",
            "\n",
            "   ncalls  tottime  percall  cumtime  percall filename:lineno(function)\n",
            "     11/1    0.000    0.000    0.000    0.000 <ipython-input-4-27f0c70c0a4f>:1(faculteiten)\n",
            "        1    2.976    2.976    2.976    2.976 <ipython-input-6-221c2d9f8d7c>:1(teller)\n",
            "        1    0.000    0.000    2.976    2.976 <string>:1(<module>)\n",
            "        1    0.000    0.000    2.976    2.976 {built-in method builtins.exec}\n",
            "        1    0.000    0.000    0.000    0.000 {method 'disable' of '_lsprof.Profiler' objects}\n",
            "\n",
            "\n"
          ]
        }
      ]
    },
    {
      "cell_type": "code",
      "source": [
        "import pstats\n",
        "from pstats import SortKey\n",
        "\n",
        "with open(\"output_time.txt\", \"w\") as f:\n",
        "  p = pstats.Stats(\"output.dat\", stream = f)\n",
        "  p.sort_stats(\"time\").print_stats()"
      ],
      "metadata": {
        "id": "zdAjq4CUgVJ_"
      },
      "execution_count": 11,
      "outputs": []
    }
  ]
}