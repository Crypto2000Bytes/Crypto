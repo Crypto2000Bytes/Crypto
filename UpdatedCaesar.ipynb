{
  "nbformat": 4,
  "nbformat_minor": 0,
  "metadata": {
    "colab": {
      "name": "UpdatedCaesar.ipynb",
      "provenance": [],
      "authorship_tag": "ABX9TyPnHjT21jf8CbsDv4Ze+3qI",
      "include_colab_link": true
    },
    "kernelspec": {
      "name": "python3",
      "display_name": "Python 3"
    },
    "language_info": {
      "name": "python"
    }
  },
  "cells": [
    {
      "cell_type": "markdown",
      "metadata": {
        "id": "view-in-github",
        "colab_type": "text"
      },
      "source": [
        "<a href=\"https://colab.research.google.com/github/Crypto2000Bytes/Crypto/blob/main/UpdatedCaesar.ipynb\" target=\"_parent\"><img src=\"https://colab.research.google.com/assets/colab-badge.svg\" alt=\"Open In Colab\"/></a>"
      ]
    },
    {
      "cell_type": "code",
      "metadata": {
        "id": "6qeO0O5qp_GZ"
      },
      "source": [
        "def genkey(shift):\n",
        "    letters = \"abcdefghijklmnopqrstuvwxyz\"\n",
        "    key = {}\n",
        "    cnt = 0\n",
        "    for letter in letters:\n",
        "        key[letter] = letters[(cnt + shift) % len(letters)]\n",
        "        cnt += 1\n",
        "    return key\n",
        "\n",
        "def encrypt(key, msg):\n",
        "    cipher = ''\n",
        "    for character in msg:\n",
        "        if character in key:\n",
        "            cipher += key[character]\n",
        "        else:\n",
        "            cipher += character\n",
        "    return cipher\n",
        "\n",
        "key = genkey(13)\n",
        "print(key)\n",
        "\n",
        "msg = \"Winston is like a Stark and a Really Good Programer!!!\"\n",
        "enc = encrypt(key, msg)\n",
        "print(enc)\n",
        "\n",
        "#With the same Key (function) and a Ciphertext you can break easilly the cipher \n",
        "# of a Caesar Cipher. There are only 26 keys or shifts.\n",
        "#The encryptiion function can beused only now with the ciphertext and the key to\n",
        "#break the Ciphertext and read the message.\n",
        "\n",
        "for i in range(26):\n",
        "    dkey = genkey(i)\n",
        "    message = encrypt(dkey, enc)\n",
        "    print(message)\n",
        "\n"
      ],
      "execution_count": null,
      "outputs": []
    }
  ]
}