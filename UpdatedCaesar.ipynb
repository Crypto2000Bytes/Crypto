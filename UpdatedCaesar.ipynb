{
  "nbformat": 4,
  "nbformat_minor": 0,
  "metadata": {
    "colab": {
      "name": "UpdatedCaesar.ipynb",
      "provenance": [],
      "authorship_tag": "ABX9TyNZnCPbUVBO6+oeLS3XoGms",
      "include_colab_link": true
    },
    "kernelspec": {
      "name": "python3",
      "display_name": "Python 3"
    },
    "language_info": {
      "name": "python"
    }
  },
  "cells": [
    {
      "cell_type": "markdown",
      "metadata": {
        "id": "view-in-github",
        "colab_type": "text"
      },
      "source": [
        "<a href=\"https://colab.research.google.com/github/Crypto2000Bytes/Crypto/blob/main/UpdatedCaesar.ipynb\" target=\"_parent\"><img src=\"https://colab.research.google.com/assets/colab-badge.svg\" alt=\"Open In Colab\"/></a>"
      ]
    },
    {
      "cell_type": "code",
      "metadata": {
        "colab": {
          "base_uri": "https://localhost:8080/"
        },
        "id": "6qeO0O5qp_GZ",
        "outputId": "9efee2a7-45cf-4506-b4db-59e8339c56b3"
      },
      "source": [
        "def genkey(shift):\n",
        "    letters = \"abcdefghijklmnopqrstuvwxyz\"\n",
        "    key = {}\n",
        "    cnt = 0\n",
        "    for letter in letters:\n",
        "        key[letter] = letters[(cnt + shift) % len(letters)]\n",
        "        cnt += 1\n",
        "    return key\n",
        "\n",
        "def encrypt(key, msg):\n",
        "    cipher = ''\n",
        "    for character in msg:\n",
        "        if character in key:\n",
        "            cipher += key[character]\n",
        "        else:\n",
        "            cipher += character\n",
        "    return cipher\n",
        "\n",
        "key = genkey(13)\n",
        "print(key)\n",
        "\n",
        "msg = \"Winston is like a Stark and a Really Good Programer!!!\"\n",
        "enc = encrypt(key, msg)\n",
        "print(enc)\n",
        "\n",
        "\"\"\"\n",
        "With the same Key (function) and a Ciphertext you can break easilly the cipher \n",
        "of a Caesar Cipher. There are only 26 keys or shifts. The encryption function \n",
        "can be used only now with the ciphertext and the key to break the Ciphertext and \n",
        "read the message.\n",
        "\"\"\"\n",
        "\n",
        "for i in range(26):\n",
        "    dkey = genkey(i)\n",
        "    message = encrypt(dkey, enc)\n",
        "    print(message)\n",
        "\n"
      ],
      "execution_count": 1,
      "outputs": [
        {
          "output_type": "stream",
          "text": [
            "{'a': 'n', 'b': 'o', 'c': 'p', 'd': 'q', 'e': 'r', 'f': 's', 'g': 't', 'h': 'u', 'i': 'v', 'j': 'w', 'k': 'x', 'l': 'y', 'm': 'z', 'n': 'a', 'o': 'b', 'p': 'c', 'q': 'd', 'r': 'e', 's': 'f', 't': 'g', 'u': 'h', 'v': 'i', 'w': 'j', 'x': 'k', 'y': 'l', 'z': 'm'}\n",
            "Wvafgba vf yvxr n Sgnex naq n Rrnyyl Gbbq Pebtenzre!!!\n",
            "Wvafgba vf yvxr n Sgnex naq n Rrnyyl Gbbq Pebtenzre!!!\n",
            "Wwbghcb wg zwys o Shofy obr o Rsozzm Gccr Pfcufoasf!!!\n",
            "Wxchidc xh axzt p Sipgz pcs p Rtpaan Gdds Pgdvgpbtg!!!\n",
            "Wydijed yi byau q Sjqha qdt q Ruqbbo Geet Phewhqcuh!!!\n",
            "Wzejkfe zj czbv r Skrib reu r Rvrccp Gffu Pifxirdvi!!!\n",
            "Wafklgf ak dacw s Slsjc sfv s Rwsddq Gggv Pjgyjsewj!!!\n",
            "Wbglmhg bl ebdx t Smtkd tgw t Rxteer Ghhw Pkhzktfxk!!!\n",
            "Wchmnih cm fcey u Snule uhx u Ryuffs Giix Plialugyl!!!\n",
            "Wdinoji dn gdfz v Sovmf viy v Rzvggt Gjjy Pmjbmvhzm!!!\n",
            "Wejopkj eo hega w Spwng wjz w Rawhhu Gkkz Pnkcnwian!!!\n",
            "Wfkpqlk fp ifhb x Sqxoh xka x Rbxiiv Glla Poldoxjbo!!!\n",
            "Wglqrml gq jgic y Srypi ylb y Rcyjjw Gmmb Ppmepykcp!!!\n",
            "Whmrsnm hr khjd z Sszqj zmc z Rdzkkx Gnnc Pqnfqzldq!!!\n",
            "Winston is like a Stark and a Really Good Programer!!!\n",
            "Wjotupo jt mjlf b Subsl boe b Rfbmmz Gppe Psphsbnfs!!!\n",
            "Wkpuvqp ku nkmg c Svctm cpf c Rgcnna Gqqf Ptqitcogt!!!\n",
            "Wlqvwrq lv olnh d Swdun dqg d Rhdoob Grrg Purjudphu!!!\n",
            "Wmrwxsr mw pmoi e Sxevo erh e Rieppc Gssh Pvskveqiv!!!\n",
            "Wnsxyts nx qnpj f Syfwp fsi f Rjfqqd Gtti Pwtlwfrjw!!!\n",
            "Wotyzut oy roqk g Szgxq gtj g Rkgrre Guuj Pxumxgskx!!!\n",
            "Wpuzavu pz sprl h Sahyr huk h Rlhssf Gvvk Pyvnyhtly!!!\n",
            "Wqvabwv qa tqsm i Sbizs ivl i Rmittg Gwwl Pzwoziumz!!!\n",
            "Wrwbcxw rb urtn j Scjat jwm j Rnjuuh Gxxm Paxpajvna!!!\n",
            "Wsxcdyx sc vsuo k Sdkbu kxn k Rokvvi Gyyn Pbyqbkwob!!!\n",
            "Wtydezy td wtvp l Selcv lyo l Rplwwj Gzzo Pczrclxpc!!!\n",
            "Wuzefaz ue xuwq m Sfmdw mzp m Rqmxxk Gaap Pdasdmyqd!!!\n"
          ],
          "name": "stdout"
        }
      ]
    }
  ]
}