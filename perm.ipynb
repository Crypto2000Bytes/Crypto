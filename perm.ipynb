{
  "nbformat": 4,
  "nbformat_minor": 0,
  "metadata": {
    "colab": {
      "name": "perm.ipynb",
      "provenance": [],
      "authorship_tag": "ABX9TyOFCYBEfqN809re4fmvP66n",
      "include_colab_link": true
    },
    "kernelspec": {
      "name": "python3",
      "display_name": "Python 3"
    },
    "language_info": {
      "name": "python"
    }
  },
  "cells": [
    {
      "cell_type": "markdown",
      "metadata": {
        "id": "view-in-github",
        "colab_type": "text"
      },
      "source": [
        "<a href=\"https://colab.research.google.com/github/Crypto2000Bytes/Crypto/blob/main/perm.ipynb\" target=\"_parent\"><img src=\"https://colab.research.google.com/assets/colab-badge.svg\" alt=\"Open In Colab\"/></a>"
      ]
    },
    {
      "cell_type": "code",
      "execution_count": 12,
      "metadata": {
        "colab": {
          "base_uri": "https://localhost:8080/"
        },
        "id": "_cvUJzZedfjl",
        "outputId": "8a008cef-6fe9-4e5c-eb78-900f89b3edcc"
      },
      "outputs": [
        {
          "output_type": "stream",
          "name": "stdout",
          "text": [
            "4 24\n"
          ]
        }
      ],
      "source": [
        "from itertools import permutations\n",
        "\n",
        "my_list = [1,2,3,4]\n",
        "cnt = 0\n",
        "list_of_perm = permutations(my_list)\n",
        "for permutation in list_of_perm:\n",
        "  cnt += 1\n",
        "print(len(my_list), cnt)\n",
        "\n",
        "  "
      ]
    },
    {
      "cell_type": "code",
      "source": [
        "from itertools import permutations\n",
        "\n",
        "mijn_lijst = [1,2,3,4,5,6,7]\n",
        "aantal_perm = permutations(mijn_lijst)\n",
        "teller = 0\n",
        "\n",
        "for perm in aantal_perm:\n",
        "  teller += 1\n",
        "print(len(mijn_lijst), teller)\n",
        "\n"
      ],
      "metadata": {
        "colab": {
          "base_uri": "https://localhost:8080/"
        },
        "id": "CVQh_gQKhhYC",
        "outputId": "9e64bf2f-0409-4934-f7a4-6e1c58c70cb6"
      },
      "execution_count": 15,
      "outputs": [
        {
          "output_type": "stream",
          "name": "stdout",
          "text": [
            "7 5040\n"
          ]
        }
      ]
    }
  ]
}